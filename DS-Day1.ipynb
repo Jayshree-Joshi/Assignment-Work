{
 "cells": [
  {
   "cell_type": "markdown",
   "metadata": {},
   "source": [
    "## QUESTION 1"
   ]
  },
  {
   "cell_type": "code",
   "execution_count": 3,
   "metadata": {},
   "outputs": [
    {
     "name": "stdout",
     "output_type": "stream",
     "text": [
      "Guess the correct English word for  -> 'OBANWRI' \n",
      " A. RANIBOW \n",
      " B. RAINBOW \n",
      " c. BOWRANI \n",
      " D. ROBWANI\n"
     ]
    }
   ],
   "source": [
    "print(\"Guess the correct English word for  -> 'OBANWRI' \")\n",
    "print(' A. RANIBOW',\"\\n\",'B. RAINBOW',\"\\n\",'c. BOWRANI',\"\\n\",'D. ROBWANI')"
   ]
  },
  {
   "cell_type": "code",
   "execution_count": 5,
   "metadata": {},
   "outputs": [
    {
     "name": "stdout",
     "output_type": "stream",
     "text": [
      "Enter correct key (A/B/C/D Only): b\n",
      "Corret Guess Well Done!! 👍\n"
     ]
    }
   ],
   "source": [
    "ip = input(\"Enter correct key (A/B/C/D Only): \")\n",
    "if(ip=='B' or ip=='b'):\n",
    "    print(\"Corret Guess Well Done!! 👍\")\n",
    "else:\n",
    "    print(\"Wrong Answer Guess Again !🙁\")"
   ]
  },
  {
   "cell_type": "markdown",
   "metadata": {},
   "source": [
    "## QUESTION 2"
   ]
  },
  {
   "cell_type": "code",
   "execution_count": 6,
   "metadata": {},
   "outputs": [
    {
     "name": "stdout",
     "output_type": "stream",
     "text": [
      "Enter text (Let's Upgrade) : let's upgrade\n",
      "Output ->  LET'S UPGRADE\n"
     ]
    }
   ],
   "source": [
    "name = input(\"Enter text (Let's Upgrade) : \")\n",
    "print(\"Output -> \", name.upper())"
   ]
  },
  {
   "cell_type": "markdown",
   "metadata": {},
   "source": [
    "## QUESTION 3"
   ]
  },
  {
   "cell_type": "code",
   "execution_count": 1,
   "metadata": {},
   "outputs": [
    {
     "name": "stdout",
     "output_type": "stream",
     "text": [
      "Sample Test Cases \n",
      "\n",
      "\t\t Input \t Output\n",
      "Test Case 1\n",
      "20\n",
      "30\n",
      "\t\t 20 \n",
      " \t\t 30 \t Profit\n",
      "-----------------------------------\n",
      "Test Case 2\n",
      "20\n",
      "10\n",
      "\t\t 20 \n",
      " \t\t 10 \t Loss\n",
      "-----------------------------------\n",
      "Test Case 3\n",
      "20\n",
      "20\n",
      "\t\t 20 \n",
      " \t\t 20 \t Neither\n",
      "-----------------------------------\n",
      "Test Case 4\n",
      "19\n",
      "19\n",
      "\t\t 19 \n",
      " \t\t 19 \t Neither\n",
      "-----------------------------------\n",
      "Test Case 5\n",
      "23\n",
      "7\n",
      "\t\t 23 \n",
      " \t\t 7 \t Loss\n",
      "-----------------------------------\n",
      "Test Case 6\n",
      "19\n",
      "95\n",
      "\t\t 19 \n",
      " \t\t 95 \t Profit\n",
      "-----------------------------------\n"
     ]
    }
   ],
   "source": [
    "print(\"Sample Test Cases \\n\")\n",
    "print(\"\\t\\t Input\",\"\\t Output\")\n",
    "for i in range(1,7):\n",
    "    print(\"Test Case\", i)\n",
    "    cp = int(input())\n",
    "    sp = int(input())\n",
    "    test = sp - cp\n",
    "    \n",
    "    if(test>0):\n",
    "        print(\"\\t\\t\",cp,\"\\n\",\"\\t\\t\",sp,\"\\t Profit\")\n",
    "        print(\"-----------------------------------\")\n",
    "        \n",
    "    elif(test<0):\n",
    "        print(\"\\t\\t\",cp,\"\\n\",\"\\t\\t\",sp,\"\\t Loss\")\n",
    "        print(\"-----------------------------------\")\n",
    "        \n",
    "    else:\n",
    "        print(\"\\t\\t\",cp,\"\\n\",\"\\t\\t\",sp,\"\\t Neither\")\n",
    "        print(\"-----------------------------------\")\n",
    "        \n"
   ]
  },
  {
   "cell_type": "markdown",
   "metadata": {},
   "source": [
    "## QUESTION 4"
   ]
  },
  {
   "cell_type": "code",
   "execution_count": 2,
   "metadata": {},
   "outputs": [
    {
     "name": "stdout",
     "output_type": "stream",
     "text": [
      "Sample Test Cases \n",
      "\n",
      "\t\t Input \t Output\n",
      "Test Case 1\n",
      "20\n",
      "\t\t 20 \t 1600\n",
      "---------------------------------\n",
      "Test Case 2\n",
      "50\n",
      "\t\t 50 \t 4000\n",
      "---------------------------------\n",
      "Test Case 3\n",
      "72\n",
      "\t\t 72 \t 5760\n",
      "---------------------------------\n",
      "Test Case 4\n",
      "7\n",
      "\t\t 7 \t 560\n",
      "---------------------------------\n",
      "Test Case 5\n",
      "35\n",
      "\t\t 35 \t 2800\n",
      "---------------------------------\n",
      "Test Case 6\n",
      "23\n",
      "\t\t 23 \t 1840\n",
      "---------------------------------\n",
      "Test Case 7\n",
      "95\n",
      "\t\t 95 \t 7600\n",
      "---------------------------------\n",
      "Test Case 8\n",
      "18\n",
      "\t\t 18 \t 1440\n",
      "---------------------------------\n"
     ]
    }
   ],
   "source": [
    "print(\"Sample Test Cases \\n\")\n",
    "print(\"\\t\\t Input\",\"\\t Output\")\n",
    "for i in range(1,9):\n",
    "     print(\"Test Case\", i)\n",
    "     euro = int(input())\n",
    "     inr = 80 * euro\n",
    "     print(\"\\t\\t\",euro,\"\\t\",inr)\n",
    "     print(\"---------------------------------\")\n"
   ]
  }
 ],
 "metadata": {
  "kernelspec": {
   "display_name": "Python 3",
   "language": "python",
   "name": "python3"
  },
  "language_info": {
   "codemirror_mode": {
    "name": "ipython",
    "version": 3
   },
   "file_extension": ".py",
   "mimetype": "text/x-python",
   "name": "python",
   "nbconvert_exporter": "python",
   "pygments_lexer": "ipython3",
   "version": "3.8.3"
  }
 },
 "nbformat": 4,
 "nbformat_minor": 4
}
